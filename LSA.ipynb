{
 "cells": [
  {
   "cell_type": "markdown",
   "metadata": {},
   "source": [
    "# Previous experience\n",
    "I am a co-author on the paper <b>Dank or not? Analyzing and predicting the popularity of memes on Reddit</b> which was published in <b>Applied Network Science</b>.  One of my peers performed semantic analysis on the text of our meme dataset to observe the attitude of the memes.  My work on the project pertained to using a gradient boosting model to predict the popularity of a meme based on its features."
   ]
  },
  {
   "cell_type": "markdown",
   "metadata": {},
   "source": [
    "Resource used for this notebook: https://www.datacamp.com/community/tutorials/discovering-hidden-topics-python"
   ]
  },
  {
   "cell_type": "code",
   "execution_count": 60,
   "metadata": {},
   "outputs": [
    {
     "name": "stderr",
     "output_type": "stream",
     "text": [
      "[nltk_data] Downloading package stopwords to\n",
      "[nltk_data]     C:\\Users\\tiern\\AppData\\Roaming\\nltk_data...\n",
      "[nltk_data]   Package stopwords is already up-to-date!\n"
     ]
    }
   ],
   "source": [
    "import os.path\n",
    "import re\n",
    "from gensim import corpora\n",
    "from gensim.models import LsiModel\n",
    "from nltk.tokenize import RegexpTokenizer\n",
    "from nltk.corpus import stopwords\n",
    "from nltk.stem.porter import PorterStemmer\n",
    "from gensim.models.coherencemodel import CoherenceModel\n",
    "import matplotlib.pyplot as plt\n",
    "import nltk\n",
    "nltk.download('stopwords')\n",
    "import pandas as pd\n",
    "import langdetect as ld"
   ]
  },
  {
   "cell_type": "markdown",
   "metadata": {},
   "source": [
    "# Functions from \"Latent Semantic Analysis using Python\" on Datacamp\n",
    "\n",
    "Author : Avinash Navlani"
   ]
  },
  {
   "cell_type": "code",
   "execution_count": 61,
   "metadata": {},
   "outputs": [],
   "source": [
    "def preprocess_data(doc_set):\n",
    "    \"\"\"\n",
    "    Input  : document list\n",
    "    Purpose: preprocess text (tokenize, removing stopwords, and stemming)\n",
    "    Output : preprocessed text\n",
    "    \"\"\"\n",
    "    # initialize regex tokenizer\n",
    "    tokenizer = RegexpTokenizer(r'\\w+')\n",
    "    # create English stop words list\n",
    "    en_stop = set(stopwords.words('english'))\n",
    "    # Create p_stemmer of class PorterStemmer\n",
    "    p_stemmer = PorterStemmer()\n",
    "    # list for tokenized documents in loop\n",
    "    texts = []\n",
    "    # loop through document list\n",
    "    for i in doc_set:\n",
    "        # clean and tokenize document string\n",
    "        raw = i.lower()\n",
    "        tokens = tokenizer.tokenize(raw)\n",
    "        # remove stop words from tokens\n",
    "        stopped_tokens = [i for i in tokens if not i in en_stop]\n",
    "        # stem tokens\n",
    "        stemmed_tokens = [p_stemmer.stem(i) for i in stopped_tokens]\n",
    "        # add tokens to list\n",
    "        texts.append(stemmed_tokens)\n",
    "    return texts"
   ]
  },
  {
   "cell_type": "code",
   "execution_count": 62,
   "metadata": {},
   "outputs": [],
   "source": [
    "def prepare_corpus(doc_clean):\n",
    "    \"\"\"\n",
    "    Input  : clean document\n",
    "    Purpose: create term dictionary of our courpus and Converting list of documents (corpus) into Document Term Matrix\n",
    "    Output : term dictionary and Document Term Matrix\n",
    "    \"\"\"\n",
    "    # Creating the term dictionary of our corpus, where every unique term is assigned an index. dictionary = corpora.Dictionary(doc_clean)\n",
    "    dictionary = corpora.Dictionary(doc_clean)\n",
    "    # Converting list of documents (corpus) into Document Term Matrix using dictionary prepared above.\n",
    "    doc_term_matrix = [dictionary.doc2bow(doc) for doc in doc_clean]\n",
    "    # generate LDA model\n",
    "    return dictionary,doc_term_matrix"
   ]
  },
  {
   "cell_type": "code",
   "execution_count": 63,
   "metadata": {},
   "outputs": [],
   "source": [
    "def create_gensim_lsa_model(doc_clean,number_of_topics,words):\n",
    "    \"\"\"\n",
    "    Input  : clean document, number of topics and number of words associated with each topic\n",
    "    Purpose: create LSA model using gensim\n",
    "    Output : return LSA model\n",
    "    \"\"\"\n",
    "    dictionary,doc_term_matrix=prepare_corpus(doc_clean)\n",
    "    # generate LSA model\n",
    "    lsamodel = LsiModel(doc_term_matrix, num_topics=number_of_topics, id2word = dictionary)  # train model\n",
    "    print(lsamodel.print_topics(num_topics=number_of_topics, num_words=words))\n",
    "    return lsamodel"
   ]
  },
  {
   "cell_type": "code",
   "execution_count": 64,
   "metadata": {},
   "outputs": [],
   "source": [
    "def compute_coherence_values(dictionary, doc_term_matrix, doc_clean, stop, start=2, step=3):\n",
    "    \"\"\"\n",
    "    Input   : dictionary : Gensim dictionary\n",
    "              corpus : Gensim corpus\n",
    "              texts : List of input texts\n",
    "              stop : Max num of topics\n",
    "    purpose : Compute c_v coherence for various number of topics\n",
    "    Output  : model_list : List of LSA topic models\n",
    "              coherence_values : Coherence values corresponding to the LDA model with respective number of topics\n",
    "    \"\"\"\n",
    "    coherence_values = []\n",
    "    model_list = []\n",
    "    for num_topics in range(start, stop, step):\n",
    "        # generate LSA model\n",
    "        model = LsiModel(doc_term_matrix, num_topics=num_topics, id2word = dictionary)  # train model\n",
    "        model_list.append(model)\n",
    "        coherencemodel = CoherenceModel(model=model, texts=doc_clean, dictionary=dictionary, coherence='c_v')\n",
    "        coherence_values.append(coherencemodel.get_coherence())\n",
    "    return model_list, coherence_values"
   ]
  },
  {
   "cell_type": "code",
   "execution_count": 65,
   "metadata": {},
   "outputs": [],
   "source": [
    "def plot_graph(doc_clean,start, stop, step):\n",
    "    dictionary,doc_term_matrix=prepare_corpus(doc_clean)\n",
    "    model_list, coherence_values = compute_coherence_values(dictionary, doc_term_matrix,doc_clean,\n",
    "                                                            stop, start, step)\n",
    "    # Show graph\n",
    "    x = range(start, stop, step)\n",
    "    plt.plot(x, coherence_values)\n",
    "    plt.xlabel(\"Number of Topics\")\n",
    "    plt.ylabel(\"Coherence score\")\n",
    "    plt.legend((\"coherence_values\"), loc='best')\n",
    "    plt.show()"
   ]
  },
  {
   "cell_type": "markdown",
   "metadata": {},
   "source": [
    "<b>End of functions from Datacamp artcile</b>"
   ]
  },
  {
   "cell_type": "code",
   "execution_count": 66,
   "metadata": {},
   "outputs": [],
   "source": [
    "def removeFromText(pattern, series, space=\"\"):\n",
    "    return series.apply(lambda s: re.sub(pattern, space, str(s) ))"
   ]
  },
  {
   "cell_type": "code",
   "execution_count": 67,
   "metadata": {},
   "outputs": [],
   "source": [
    "def cleanText(df):\n",
    "    patternLinks = \"http.*\"\n",
    "    patternAts = \"@.*\"\n",
    "    patternNewLine = \"\\n\"\n",
    "    patternAmp = \"amp\"\n",
    "    df['text'] = removeFromText(patternLinks, df['text'])\n",
    "    df['text'] = removeFromText(patternAts, df['text'])\n",
    "    df['text'] = removeFromText(patternNewLine, df['text'], \" \")\n",
    "    df['text'] = removeFromText(patternAmp, df['text'], \" \")"
   ]
  },
  {
   "cell_type": "code",
   "execution_count": 68,
   "metadata": {},
   "outputs": [],
   "source": [
    "def getLangs(df):\n",
    "    langs = []\n",
    "    for text in df['text']:\n",
    "        l = \"\"\n",
    "        try:\n",
    "            l = ld.detect(text)\n",
    "        except:\n",
    "            l = \"error\"\n",
    "        langs.append(l)\n",
    "    df['langs'] = langs"
   ]
  },
  {
   "cell_type": "code",
   "execution_count": 69,
   "metadata": {},
   "outputs": [],
   "source": [
    "def removeCovid(df):\n",
    "    patternCorona1 = \"coronavirus\"\n",
    "    patternCovid1 = \"covid-19\"\n",
    "    patternCorona2 = \"coronaviru\"\n",
    "    patternCovid2 = \"covid\"\n",
    "    pattern19 = \"19\"\n",
    "    df['text'] = removeFromText(patternCorona1, df['text'])\n",
    "    df['text'] = removeFromText(patternCovid1, df['text'])\n",
    "    df['text'] = removeFromText(patternCorona2, df['text'])\n",
    "    df['text'] = removeFromText(patternCovid2, df['text'])\n",
    "    df['text'] = removeFromText(pattern19, df['text'])"
   ]
  },
  {
   "cell_type": "markdown",
   "metadata": {},
   "source": [
    "# Clean the Tweets"
   ]
  },
  {
   "cell_type": "code",
   "execution_count": 70,
   "metadata": {},
   "outputs": [],
   "source": [
    "df1 = pd.read_csv(\"first_pull.csv\")\n",
    "df2 = pd.read_csv(\"second_pull.csv\")\n",
    "df3 = pd.read_csv(\"thirdpull_earlyLockdown.csv\")\n",
    "df4 = pd.read_csv(\"fourthpull_midLockdown.csv\")\n",
    "df5 = pd.read_csv(\"May_data.csv\")\n",
    "df6 = pd.read_csv(\"June_data.csv\")"
   ]
  },
  {
   "cell_type": "code",
   "execution_count": 71,
   "metadata": {},
   "outputs": [],
   "source": [
    "each = (df1, df2, df3, df4, df5, df6)\n",
    "DF = pd.concat(each, ignore_index=True)"
   ]
  },
  {
   "cell_type": "code",
   "execution_count": 72,
   "metadata": {},
   "outputs": [],
   "source": [
    "getLangs(DF)\n",
    "DF = DF[DF['langs'] == 'en']"
   ]
  },
  {
   "cell_type": "code",
   "execution_count": 73,
   "metadata": {},
   "outputs": [],
   "source": [
    "cleanText(DF)"
   ]
  },
  {
   "cell_type": "markdown",
   "metadata": {},
   "source": [
    "# With Gensim\n",
    "As per the documentation, Gensim lsimodel implements trunctated SVD.  "
   ]
  },
  {
   "cell_type": "code",
   "execution_count": 74,
   "metadata": {},
   "outputs": [],
   "source": [
    "def model(tweets, words=8, number_of_topics=3):\n",
    "    model=create_gensim_lsa_model(tweets,number_of_topics,words)"
   ]
  },
  {
   "cell_type": "markdown",
   "metadata": {},
   "source": [
    "# Topic Coherence\n",
    "Topic coherence provides a quantity that tells us the extent that the main words in a given topic are semantically related. Essentially, we are taking an average of the pairwise similarity scores of the top words within a topic.  Usually this pertains to the co-occurrences of these words within statements.  The function creates models for different number of topics.  We then use Gensim's Cohernce Model which calculates the coherence score of each model. \n"
   ]
  },
  {
   "cell_type": "code",
   "execution_count": 75,
   "metadata": {},
   "outputs": [
    {
     "data": {
      "image/png": "[encoded data removed]",
      "text/plain": [
       "<Figure size 432x288 with 1 Axes>"
      ]
     },
     "metadata": {
      "needs_background": "light"
     },
     "output_type": "display_data"
    }
   ],
   "source": [
    "all_tweets = preprocess_data(DF['text'])\n",
    "start,stop,step=2,12,1\n",
    "plot_graph(all_tweets,start,stop,step)"
   ]
  },
  {
   "cell_type": "code",
   "execution_count": 80,
   "metadata": {},
   "outputs": [
    {
     "name": "stdout",
     "output_type": "stream",
     "text": [
      "[(0, '0.835*\"covid\" + 0.244*\"case\" + 0.156*\"test\" + 0.143*\"trump\" + 0.142*\"new\" + 0.096*\"death\" + 0.093*\"coronaviru\" + 0.084*\"us\"'), (1, '0.639*\"case\" + -0.431*\"covid\" + 0.305*\"new\" + 0.292*\"coronaviru\" + 0.166*\"report\" + 0.145*\"1\" + 0.134*\"death\" + 0.131*\"day\"'), (2, '-0.753*\"trump\" + 0.259*\"case\" + -0.228*\"test\" + -0.206*\"presid\" + 0.205*\"covid\" + -0.122*\"peopl\" + -0.116*\"say\" + -0.103*\"donald\"'), (3, '0.542*\"test\" + -0.510*\"coronaviru\" + 0.279*\"posit\" + 0.221*\"case\" + -0.203*\"us\" + -0.161*\"death\" + -0.159*\"die\" + 0.148*\"new\"'), (4, '-0.562*\"test\" + 0.413*\"trump\" + -0.368*\"coronaviru\" + -0.315*\"posit\" + 0.186*\"case\" + -0.150*\"peopl\" + -0.138*\"corona\" + -0.106*\"go\"'), (5, '0.433*\"corona\" + 0.355*\"go\" + 0.320*\"viru\" + -0.302*\"coronaviru\" + 0.239*\"shit\" + 0.218*\"children\" + 0.215*\"staff\" + 0.211*\"expos\"'), (6, '0.484*\"coronaviru\" + -0.378*\"peopl\" + -0.353*\"die\" + -0.341*\"000\" + -0.258*\"american\" + -0.162*\"death\" + -0.120*\"million\" + -0.112*\"state\"')]\n"
     ]
    }
   ],
   "source": [
    "model(all_tweets, 8, 7)"
   ]
  },
  {
   "cell_type": "markdown",
   "metadata": {},
   "source": [
    "# Topics\n",
    "\n",
    "Topic 1 : (covid, case, test, trump, new, death, coronaviru(s), us)\n",
    "<br>\n",
    "Topic 2 : (case, covid, new, coronavirus, report, 1, death, day)\n",
    "<br>\n",
    "Topic 3 : (trump, case, test, presid(dent), covid, peopl(e), say, donald)\n",
    "<br>\n",
    "Topic 4 : (test, coronaviru(s), posit(ive), case, us, death, die, new)\n",
    "<br>\n",
    "Topic 5 : (test, trump, coronaviru(s), posit(ive), case, peopl(e), corona, go)\n",
    "<br>\n",
    "Topic 6 : (corona, go, viru(s), coronaviru(s), shit, children, staff, expos(ed))\n",
    "<br>\n",
    "Topic 7 : (coronaviru(s), peopl(e), die, 000, american, death, million, state)"
   ]
  },
  {
   "cell_type": "code",
   "execution_count": 77,
   "metadata": {},
   "outputs": [],
   "source": [
    "removeCovid(DF)"
   ]
  },
  {
   "cell_type": "code",
   "execution_count": 78,
   "metadata": {},
   "outputs": [
    {
     "data": {
      "image/png": "[encoded data removed]",
      "text/plain": [
       "<Figure size 432x288 with 1 Axes>"
      ]
     },
     "metadata": {
      "needs_background": "light"
     },
     "output_type": "display_data"
    }
   ],
   "source": [
    "all_tweets = preprocess_data(DF['text'])\n",
    "start,stop,step=2,12,1\n",
    "plot_graph(all_tweets,start,stop,step)"
   ]
  },
  {
   "cell_type": "code",
   "execution_count": 81,
   "metadata": {},
   "outputs": [
    {
     "name": "stdout",
     "output_type": "stream",
     "text": [
      "[(0, '0.835*\"covid\" + 0.244*\"case\" + 0.156*\"test\" + 0.143*\"trump\" + 0.142*\"new\" + 0.096*\"death\" + 0.093*\"coronaviru\" + 0.084*\"us\"'), (1, '-0.639*\"case\" + 0.431*\"covid\" + -0.305*\"new\" + -0.292*\"coronaviru\" + -0.166*\"report\" + -0.145*\"1\" + -0.134*\"death\" + -0.131*\"day\"'), (2, '-0.753*\"trump\" + 0.259*\"case\" + -0.229*\"test\" + -0.206*\"presid\" + 0.205*\"covid\" + -0.122*\"peopl\" + -0.116*\"say\" + -0.103*\"donald\"'), (3, '-0.542*\"test\" + 0.510*\"coronaviru\" + -0.278*\"posit\" + -0.220*\"case\" + 0.203*\"us\" + 0.161*\"death\" + 0.160*\"die\" + -0.149*\"new\"')]\n"
     ]
    }
   ],
   "source": [
    "model(all_tweets, 8, 4)"
   ]
  },
  {
   "cell_type": "markdown",
   "metadata": {},
   "source": [
    "# Our Topics...\n",
    "Topic 1: (covid, case, test, trump, new, death, coronaviru(s), us)\n",
    "<br>\n",
    "Topic 2: (case, covid, new, coronaviru(s), report, 1, death, day)\n",
    "<br>\n",
    "Topic 3: (trump, case, test, presid(ent), covid, peopl(e), say, donald)\n",
    "<br>\n",
    "Topic 4 : (test, coronaviru(s), posit(ive), case, us, death, die new)\n",
    "    "
   ]
  },
  {
   "cell_type": "markdown",
   "metadata": {},
   "source": [
    "# Alternative with Sklearn"
   ]
  },
  {
   "cell_type": "markdown",
   "metadata": {},
   "source": [
    "Resource: https://www.datascienceassn.org/sites/default/files/users/user1/lsa_presentation_final.pdf\n",
    "\n",
    "Author: Will Stanton"
   ]
  },
  {
   "cell_type": "code",
   "execution_count": 82,
   "metadata": {},
   "outputs": [],
   "source": [
    "import sklearn\n",
    "from sklearn.decomposition import TruncatedSVD\n",
    "from sklearn.feature_extraction.text import TfidfVectorizer\n",
    "from sklearn.feature_extraction.text import CountVectorizer\n",
    "from sklearn.preprocessing import Normalizer\n",
    "from sklearn import metrics\n",
    "from sklearn.cluster import KMeans, MiniBatchKMeans\n",
    "import numpy"
   ]
  },
  {
   "cell_type": "code",
   "execution_count": 83,
   "metadata": {},
   "outputs": [],
   "source": [
    "stops = set(stopwords.words('english')+[\"http\"])"
   ]
  },
  {
   "cell_type": "markdown",
   "metadata": {},
   "source": [
    "We need to create a document term matrix.  A matrix with the tokens as the columns and documents as rows."
   ]
  },
  {
   "cell_type": "code",
   "execution_count": 84,
   "metadata": {},
   "outputs": [],
   "source": [
    "vectorizer = CountVectorizer(min_df=1, stop_words=stops)\n",
    "docTermMatrix = vectorizer.fit_transform(DF['text'])\n",
    "dtm = pd.DataFrame(docTermMatrix.toarray(), index=DF['text'], columns=vectorizer.get_feature_names())"
   ]
  },
  {
   "cell_type": "code",
   "execution_count": 85,
   "metadata": {},
   "outputs": [
    {
     "data": {
      "text/html": [
       "<div>\n",
       "<style scoped>\n",
       "    .dataframe tbody tr th:only-of-type {\n",
       "        vertical-align: middle;\n",
       "    }\n",
       "\n",
       "    .dataframe tbody tr th {\n",
       "        vertical-align: top;\n",
       "    }\n",
       "\n",
       "    .dataframe thead th {\n",
       "        text-align: right;\n",
       "    }\n",
       "</style>\n",
       "<table border=\"1\" class=\"dataframe\">\n",
       "  <thead>\n",
       "    <tr style=\"text-align: right;\">\n",
       "      <th></th>\n",
       "      <th>00</th>\n",
       "      <th>000</th>\n",
       "      <th>000marks</th>\n",
       "      <th>033k</th>\n",
       "      <th>070</th>\n",
       "      <th>10</th>\n",
       "      <th>100</th>\n",
       "      <th>1003</th>\n",
       "      <th>100b</th>\n",
       "      <th>100daysofcode</th>\n",
       "      <th>...</th>\n",
       "      <th>zone</th>\n",
       "      <th>إختبار</th>\n",
       "      <th>كورونا</th>\n",
       "      <th>للبشرية</th>\n",
       "      <th>هو</th>\n",
       "      <th>والإنسانية</th>\n",
       "      <th>パンデミックとウォール街の関係ーーspecial</th>\n",
       "      <th>𝗔𝗥𝗘</th>\n",
       "      <th>𝗟𝗜𝗩𝗘</th>\n",
       "      <th>𝗪𝗘</th>\n",
       "    </tr>\n",
       "    <tr>\n",
       "      <th>text</th>\n",
       "      <th></th>\n",
       "      <th></th>\n",
       "      <th></th>\n",
       "      <th></th>\n",
       "      <th></th>\n",
       "      <th></th>\n",
       "      <th></th>\n",
       "      <th></th>\n",
       "      <th></th>\n",
       "      <th></th>\n",
       "      <th></th>\n",
       "      <th></th>\n",
       "      <th></th>\n",
       "      <th></th>\n",
       "      <th></th>\n",
       "      <th></th>\n",
       "      <th></th>\n",
       "      <th></th>\n",
       "      <th></th>\n",
       "      <th></th>\n",
       "      <th></th>\n",
       "    </tr>\n",
       "  </thead>\n",
       "  <tbody>\n",
       "    <tr>\n",
       "      <th>#16 is my immune system fending off corona</th>\n",
       "      <td>0</td>\n",
       "      <td>0</td>\n",
       "      <td>0</td>\n",
       "      <td>0</td>\n",
       "      <td>0</td>\n",
       "      <td>0</td>\n",
       "      <td>0</td>\n",
       "      <td>0</td>\n",
       "      <td>0</td>\n",
       "      <td>0</td>\n",
       "      <td>...</td>\n",
       "      <td>0</td>\n",
       "      <td>0</td>\n",
       "      <td>0</td>\n",
       "      <td>0</td>\n",
       "      <td>0</td>\n",
       "      <td>0</td>\n",
       "      <td>0</td>\n",
       "      <td>0</td>\n",
       "      <td>0</td>\n",
       "      <td>0</td>\n",
       "    </tr>\n",
       "    <tr>\n",
       "      <th>Everyone knows that we're facing a real crisis from the . But do you know how we got here and what we ne…</th>\n",
       "      <td>0</td>\n",
       "      <td>0</td>\n",
       "      <td>0</td>\n",
       "      <td>0</td>\n",
       "      <td>0</td>\n",
       "      <td>0</td>\n",
       "      <td>0</td>\n",
       "      <td>0</td>\n",
       "      <td>0</td>\n",
       "      <td>0</td>\n",
       "      <td>...</td>\n",
       "      <td>0</td>\n",
       "      <td>0</td>\n",
       "      <td>0</td>\n",
       "      <td>0</td>\n",
       "      <td>0</td>\n",
       "      <td>0</td>\n",
       "      <td>0</td>\n",
       "      <td>0</td>\n",
       "      <td>0</td>\n",
       "      <td>0</td>\n",
       "    </tr>\n",
       "    <tr>\n",
       "      <th>\"She tested for , and her results were delayed. Five days later, she was dead in her kitchen.\" She was 3…</th>\n",
       "      <td>0</td>\n",
       "      <td>0</td>\n",
       "      <td>0</td>\n",
       "      <td>0</td>\n",
       "      <td>0</td>\n",
       "      <td>0</td>\n",
       "      <td>0</td>\n",
       "      <td>0</td>\n",
       "      <td>0</td>\n",
       "      <td>0</td>\n",
       "      <td>...</td>\n",
       "      <td>0</td>\n",
       "      <td>0</td>\n",
       "      <td>0</td>\n",
       "      <td>0</td>\n",
       "      <td>0</td>\n",
       "      <td>0</td>\n",
       "      <td>0</td>\n",
       "      <td>0</td>\n",
       "      <td>0</td>\n",
       "      <td>0</td>\n",
       "    </tr>\n",
       "    <tr>\n",
       "      <th>The Goddard Report with host   #CoronaVirus, #ToxicDrugs, and #FakeNews How to turn a non-pandemic int…</th>\n",
       "      <td>0</td>\n",
       "      <td>0</td>\n",
       "      <td>0</td>\n",
       "      <td>0</td>\n",
       "      <td>0</td>\n",
       "      <td>0</td>\n",
       "      <td>0</td>\n",
       "      <td>0</td>\n",
       "      <td>0</td>\n",
       "      <td>0</td>\n",
       "      <td>...</td>\n",
       "      <td>0</td>\n",
       "      <td>0</td>\n",
       "      <td>0</td>\n",
       "      <td>0</td>\n",
       "      <td>0</td>\n",
       "      <td>0</td>\n",
       "      <td>0</td>\n",
       "      <td>0</td>\n",
       "      <td>0</td>\n",
       "      <td>0</td>\n",
       "    </tr>\n",
       "    <tr>\n",
       "      <th>Robert Reich says airlines ‘shouldn’t see a dime of taxpayer money’ in a  bailout</th>\n",
       "      <td>0</td>\n",
       "      <td>0</td>\n",
       "      <td>0</td>\n",
       "      <td>0</td>\n",
       "      <td>0</td>\n",
       "      <td>0</td>\n",
       "      <td>0</td>\n",
       "      <td>0</td>\n",
       "      <td>0</td>\n",
       "      <td>0</td>\n",
       "      <td>...</td>\n",
       "      <td>0</td>\n",
       "      <td>0</td>\n",
       "      <td>0</td>\n",
       "      <td>0</td>\n",
       "      <td>0</td>\n",
       "      <td>0</td>\n",
       "      <td>0</td>\n",
       "      <td>0</td>\n",
       "      <td>0</td>\n",
       "      <td>0</td>\n",
       "    </tr>\n",
       "  </tbody>\n",
       "</table>\n",
       "<p>5 rows × 5894 columns</p>\n",
       "</div>"
      ],
      "text/plain": [
       "                                                    00  000  000marks  033k  \\\n",
       "text                                                                          \n",
       "#16 is my immune system fending off corona           0    0         0     0   \n",
       "Everyone knows that we're facing a real crisis ...   0    0         0     0   \n",
       "\"She tested for , and her results were delayed....   0    0         0     0   \n",
       "The Goddard Report with host   #CoronaVirus, #T...   0    0         0     0   \n",
       "Robert Reich says airlines ‘shouldn’t see a dim...   0    0         0     0   \n",
       "\n",
       "                                                    070  10  100  1003  100b  \\\n",
       "text                                                                           \n",
       "#16 is my immune system fending off corona            0   0    0     0     0   \n",
       "Everyone knows that we're facing a real crisis ...    0   0    0     0     0   \n",
       "\"She tested for , and her results were delayed....    0   0    0     0     0   \n",
       "The Goddard Report with host   #CoronaVirus, #T...    0   0    0     0     0   \n",
       "Robert Reich says airlines ‘shouldn’t see a dim...    0   0    0     0     0   \n",
       "\n",
       "                                                    100daysofcode  ...  zone  \\\n",
       "text                                                               ...         \n",
       "#16 is my immune system fending off corona                      0  ...     0   \n",
       "Everyone knows that we're facing a real crisis ...              0  ...     0   \n",
       "\"She tested for , and her results were delayed....              0  ...     0   \n",
       "The Goddard Report with host   #CoronaVirus, #T...              0  ...     0   \n",
       "Robert Reich says airlines ‘shouldn’t see a dim...              0  ...     0   \n",
       "\n",
       "                                                    إختبار  كورونا  للبشرية  \\\n",
       "text                                                                          \n",
       "#16 is my immune system fending off corona               0       0        0   \n",
       "Everyone knows that we're facing a real crisis ...       0       0        0   \n",
       "\"She tested for , and her results were delayed....       0       0        0   \n",
       "The Goddard Report with host   #CoronaVirus, #T...       0       0        0   \n",
       "Robert Reich says airlines ‘shouldn’t see a dim...       0       0        0   \n",
       "\n",
       "                                                    هو  والإنسانية  \\\n",
       "text                                                                 \n",
       "#16 is my immune system fending off corona           0           0   \n",
       "Everyone knows that we're facing a real crisis ...   0           0   \n",
       "\"She tested for , and her results were delayed....   0           0   \n",
       "The Goddard Report with host   #CoronaVirus, #T...   0           0   \n",
       "Robert Reich says airlines ‘shouldn’t see a dim...   0           0   \n",
       "\n",
       "                                                    パンデミックとウォール街の関係ーーspecial  \\\n",
       "text                                                                           \n",
       "#16 is my immune system fending off corona                                 0   \n",
       "Everyone knows that we're facing a real crisis ...                         0   \n",
       "\"She tested for , and her results were delayed....                         0   \n",
       "The Goddard Report with host   #CoronaVirus, #T...                         0   \n",
       "Robert Reich says airlines ‘shouldn’t see a dim...                         0   \n",
       "\n",
       "                                                    𝗔𝗥𝗘  𝗟𝗜𝗩𝗘  𝗪𝗘  \n",
       "text                                                               \n",
       "#16 is my immune system fending off corona            0     0   0  \n",
       "Everyone knows that we're facing a real crisis ...    0     0   0  \n",
       "\"She tested for , and her results were delayed....    0     0   0  \n",
       "The Goddard Report with host   #CoronaVirus, #T...    0     0   0  \n",
       "Robert Reich says airlines ‘shouldn’t see a dim...    0     0   0  \n",
       "\n",
       "[5 rows x 5894 columns]"
      ]
     },
     "execution_count": 85,
     "metadata": {},
     "output_type": "execute_result"
    }
   ],
   "source": [
    "dtm.head()"
   ]
  },
  {
   "cell_type": "markdown",
   "metadata": {},
   "source": [
    "Where SVD comes in..."
   ]
  },
  {
   "cell_type": "markdown",
   "metadata": {},
   "source": [
    "Below we are using the truncated SVD using the randomized algorithm implemented by Sklearn.  The randomized algorithm makes use of a Randomized Rangefinder.  A Randomized Rangefinder is a problem with a goal of producing an orthonormal matrix Q for an input matrix B.  Q's range must align with the dominant left singular vectors of B. \n",
    "\n",
    "In the randomized algorithm, we compute the matrix Q and form matrix C = Q* B.  Then, we find the truncated SVD of C to receive U_hat, Sigma, and V.  U is calculated as Q* U_hat.  Observe the following pseudocode\n",
    "\n",
    "function RandomRangefinder(B, l):\n",
    " // B of size m by n\n",
    "<ol>\n",
    "    <li>Form random matrix Omega of size n by l</li>\n",
    "    <li>Form Y = B * Omega</li>\n",
    "    <li>Compute [Q, _] = QR_economy(Y)</li>\n",
    "</ol>\n",
    "\n",
    "function RSVD(B, l):\n",
    "<ol>\n",
    "   // input: Matrix B, l range of Q \n",
    "   <li>Q = RandomRangefinder(B, l)</li>\n",
    "   <li>C = Q*B</li>\n",
    "   <li>U_hat, Sigma, V = svd_truncated(C)</li>\n",
    "   <li>U = Q*U_hat</li>\n",
    "   //optionally truncate the factorization to rank r less than or equal to l\n",
    "</ol>\n",
    "\n",
    "source : https://arxiv.org/pdf/2002.01387v1.pdf"
   ]
  },
  {
   "cell_type": "code",
   "execution_count": 88,
   "metadata": {},
   "outputs": [],
   "source": [
    "lsa = TruncatedSVD(4, algorithm='randomized')\n",
    "dtm_lsa = lsa.fit_transform(dtm) # From doc: Fit model to X and perform dimensionality reduction on X.\n",
    "dtm_lsa = Normalizer(copy=False).fit_transform(dtm_lsa) #Normalizes samples to unit norm"
   ]
  },
  {
   "cell_type": "markdown",
   "metadata": {},
   "source": [
    "\"Scaling inputs to unit norms is a common operation for text classification or clustering for instance. For instance the dot product of two l2-normalized TF-IDF vectors is the cosine similarity of the vectors and is the base similarity metric for the Vector Space Model commonly used by the Information Retrieval community.\" - sklearn documenation for Normalizer"
   ]
  },
  {
   "cell_type": "code",
   "execution_count": 89,
   "metadata": {},
   "outputs": [],
   "source": [
    "resultsDF = pd.DataFrame(lsa.components_,index = [\"component_1\",\"component_2\", \"component_3\", \"component_4\"],columns = vectorizer.get_feature_names())"
   ]
  },
  {
   "cell_type": "code",
   "execution_count": 90,
   "metadata": {},
   "outputs": [
    {
     "data": {
      "text/html": [
       "<div>\n",
       "<style scoped>\n",
       "    .dataframe tbody tr th:only-of-type {\n",
       "        vertical-align: middle;\n",
       "    }\n",
       "\n",
       "    .dataframe tbody tr th {\n",
       "        vertical-align: top;\n",
       "    }\n",
       "\n",
       "    .dataframe thead th {\n",
       "        text-align: right;\n",
       "    }\n",
       "</style>\n",
       "<table border=\"1\" class=\"dataframe\">\n",
       "  <thead>\n",
       "    <tr style=\"text-align: right;\">\n",
       "      <th></th>\n",
       "      <th>00</th>\n",
       "      <th>000</th>\n",
       "      <th>000marks</th>\n",
       "      <th>033k</th>\n",
       "      <th>070</th>\n",
       "      <th>10</th>\n",
       "      <th>100</th>\n",
       "      <th>1003</th>\n",
       "      <th>100b</th>\n",
       "      <th>100daysofcode</th>\n",
       "      <th>...</th>\n",
       "      <th>zone</th>\n",
       "      <th>إختبار</th>\n",
       "      <th>كورونا</th>\n",
       "      <th>للبشرية</th>\n",
       "      <th>هو</th>\n",
       "      <th>والإنسانية</th>\n",
       "      <th>パンデミックとウォール街の関係ーーspecial</th>\n",
       "      <th>𝗔𝗥𝗘</th>\n",
       "      <th>𝗟𝗜𝗩𝗘</th>\n",
       "      <th>𝗪𝗘</th>\n",
       "    </tr>\n",
       "  </thead>\n",
       "  <tbody>\n",
       "    <tr>\n",
       "      <th>component_1</th>\n",
       "      <td>0.000129</td>\n",
       "      <td>0.056039</td>\n",
       "      <td>0.000322</td>\n",
       "      <td>0.001846</td>\n",
       "      <td>0.001475</td>\n",
       "      <td>0.014344</td>\n",
       "      <td>0.006955</td>\n",
       "      <td>0.000062</td>\n",
       "      <td>0.000057</td>\n",
       "      <td>0.001501</td>\n",
       "      <td>...</td>\n",
       "      <td>0.003133</td>\n",
       "      <td>0.000071</td>\n",
       "      <td>0.000143</td>\n",
       "      <td>0.000071</td>\n",
       "      <td>0.000071</td>\n",
       "      <td>0.000071</td>\n",
       "      <td>0.000182</td>\n",
       "      <td>0.001367</td>\n",
       "      <td>0.001367</td>\n",
       "      <td>0.001367</td>\n",
       "    </tr>\n",
       "    <tr>\n",
       "      <th>component_2</th>\n",
       "      <td>0.000388</td>\n",
       "      <td>0.125000</td>\n",
       "      <td>0.002109</td>\n",
       "      <td>0.010062</td>\n",
       "      <td>0.007877</td>\n",
       "      <td>0.023887</td>\n",
       "      <td>0.026317</td>\n",
       "      <td>-0.000014</td>\n",
       "      <td>0.000186</td>\n",
       "      <td>-0.000006</td>\n",
       "      <td>...</td>\n",
       "      <td>-0.000097</td>\n",
       "      <td>0.000126</td>\n",
       "      <td>0.000253</td>\n",
       "      <td>0.000126</td>\n",
       "      <td>0.000126</td>\n",
       "      <td>0.000126</td>\n",
       "      <td>0.001177</td>\n",
       "      <td>-0.001212</td>\n",
       "      <td>-0.001212</td>\n",
       "      <td>-0.001212</td>\n",
       "    </tr>\n",
       "    <tr>\n",
       "      <th>component_3</th>\n",
       "      <td>-0.000036</td>\n",
       "      <td>-0.001319</td>\n",
       "      <td>-0.001116</td>\n",
       "      <td>-0.002547</td>\n",
       "      <td>-0.001687</td>\n",
       "      <td>-0.003392</td>\n",
       "      <td>0.005771</td>\n",
       "      <td>0.000091</td>\n",
       "      <td>0.000041</td>\n",
       "      <td>-0.000808</td>\n",
       "      <td>...</td>\n",
       "      <td>0.003152</td>\n",
       "      <td>0.000151</td>\n",
       "      <td>0.000301</td>\n",
       "      <td>0.000151</td>\n",
       "      <td>0.000151</td>\n",
       "      <td>0.000151</td>\n",
       "      <td>0.000377</td>\n",
       "      <td>-0.000309</td>\n",
       "      <td>-0.000309</td>\n",
       "      <td>-0.000309</td>\n",
       "    </tr>\n",
       "    <tr>\n",
       "      <th>component_4</th>\n",
       "      <td>0.000047</td>\n",
       "      <td>-0.053639</td>\n",
       "      <td>0.001496</td>\n",
       "      <td>-0.011916</td>\n",
       "      <td>-0.008188</td>\n",
       "      <td>-0.008859</td>\n",
       "      <td>-0.000229</td>\n",
       "      <td>-0.000091</td>\n",
       "      <td>-0.000246</td>\n",
       "      <td>0.001034</td>\n",
       "      <td>...</td>\n",
       "      <td>-0.002875</td>\n",
       "      <td>-0.000616</td>\n",
       "      <td>-0.001232</td>\n",
       "      <td>-0.000616</td>\n",
       "      <td>-0.000616</td>\n",
       "      <td>-0.000616</td>\n",
       "      <td>-0.003994</td>\n",
       "      <td>-0.000169</td>\n",
       "      <td>-0.000169</td>\n",
       "      <td>-0.000169</td>\n",
       "    </tr>\n",
       "  </tbody>\n",
       "</table>\n",
       "<p>4 rows × 5894 columns</p>\n",
       "</div>"
      ],
      "text/plain": [
       "                   00       000  000marks      033k       070        10  \\\n",
       "component_1  0.000129  0.056039  0.000322  0.001846  0.001475  0.014344   \n",
       "component_2  0.000388  0.125000  0.002109  0.010062  0.007877  0.023887   \n",
       "component_3 -0.000036 -0.001319 -0.001116 -0.002547 -0.001687 -0.003392   \n",
       "component_4  0.000047 -0.053639  0.001496 -0.011916 -0.008188 -0.008859   \n",
       "\n",
       "                  100      1003      100b  100daysofcode  ...      zone  \\\n",
       "component_1  0.006955  0.000062  0.000057       0.001501  ...  0.003133   \n",
       "component_2  0.026317 -0.000014  0.000186      -0.000006  ... -0.000097   \n",
       "component_3  0.005771  0.000091  0.000041      -0.000808  ...  0.003152   \n",
       "component_4 -0.000229 -0.000091 -0.000246       0.001034  ... -0.002875   \n",
       "\n",
       "               إختبار    كورونا   للبشرية        هو  والإنسانية  \\\n",
       "component_1  0.000071  0.000143  0.000071  0.000071    0.000071   \n",
       "component_2  0.000126  0.000253  0.000126  0.000126    0.000126   \n",
       "component_3  0.000151  0.000301  0.000151  0.000151    0.000151   \n",
       "component_4 -0.000616 -0.001232 -0.000616 -0.000616   -0.000616   \n",
       "\n",
       "             パンデミックとウォール街の関係ーーspecial       𝗔𝗥𝗘      𝗟𝗜𝗩𝗘        𝗪𝗘  \n",
       "component_1                  0.000182  0.001367  0.001367  0.001367  \n",
       "component_2                  0.001177 -0.001212 -0.001212 -0.001212  \n",
       "component_3                  0.000377 -0.000309 -0.000309 -0.000309  \n",
       "component_4                 -0.003994 -0.000169 -0.000169 -0.000169  \n",
       "\n",
       "[4 rows x 5894 columns]"
      ]
     },
     "execution_count": 90,
     "metadata": {},
     "output_type": "execute_result"
    }
   ],
   "source": [
    "resultsDF"
   ]
  },
  {
   "cell_type": "code",
   "execution_count": 51,
   "metadata": {},
   "outputs": [],
   "source": [
    "vectorizer = CountVectorizer(min_df=1, stop_words=stops)\n",
    "exampleTweets = vectorizer.fit_transform(DF['text'][0:100])"
   ]
  },
  {
   "cell_type": "code",
   "execution_count": 52,
   "metadata": {},
   "outputs": [],
   "source": [
    "from sklearn.utils.extmath import randomized_svd"
   ]
  },
  {
   "cell_type": "code",
   "execution_count": 53,
   "metadata": {},
   "outputs": [],
   "source": [
    "U, Sigma, Vt = randomized_svd(exampleTweets.toarray(), n_components = 2)"
   ]
  },
  {
   "cell_type": "markdown",
   "metadata": {},
   "source": [
    "# Matrix U\n",
    "\n",
    "Depends upon shape of your input data.  For our matrix, U represents topic distribution accross documents."
   ]
  },
  {
   "cell_type": "code",
   "execution_count": 59,
   "metadata": {
    "scrolled": true
   },
   "outputs": [
    {
     "data": {
      "text/html": [
       "<div>\n",
       "<style scoped>\n",
       "    .dataframe tbody tr th:only-of-type {\n",
       "        vertical-align: middle;\n",
       "    }\n",
       "\n",
       "    .dataframe tbody tr th {\n",
       "        vertical-align: top;\n",
       "    }\n",
       "\n",
       "    .dataframe thead th {\n",
       "        text-align: right;\n",
       "    }\n",
       "</style>\n",
       "<table border=\"1\" class=\"dataframe\">\n",
       "  <thead>\n",
       "    <tr style=\"text-align: right;\">\n",
       "      <th></th>\n",
       "      <th>Topic 1</th>\n",
       "      <th>Topic 2</th>\n",
       "    </tr>\n",
       "    <tr>\n",
       "      <th>text</th>\n",
       "      <th></th>\n",
       "      <th></th>\n",
       "    </tr>\n",
       "  </thead>\n",
       "  <tbody>\n",
       "    <tr>\n",
       "      <th>#16 is my immune system fending off corona</th>\n",
       "      <td>0.009634</td>\n",
       "      <td>0.004187</td>\n",
       "    </tr>\n",
       "    <tr>\n",
       "      <th>Everyone knows that we're facing a real crisis from the . But do you know how we got here and what we ne…</th>\n",
       "      <td>0.015617</td>\n",
       "      <td>-0.007770</td>\n",
       "    </tr>\n",
       "    <tr>\n",
       "      <th>\"She tested for , and her results were delayed. Five days later, she was dead in her kitchen.\" She was 3…</th>\n",
       "      <td>0.015076</td>\n",
       "      <td>-0.006064</td>\n",
       "    </tr>\n",
       "    <tr>\n",
       "      <th>The Goddard Report with host   #CoronaVirus, #ToxicDrugs, and #FakeNews How to turn a non-pandemic int…</th>\n",
       "      <td>0.050795</td>\n",
       "      <td>0.082349</td>\n",
       "    </tr>\n",
       "    <tr>\n",
       "      <th>Robert Reich says airlines ‘shouldn’t see a dime of taxpayer money’ in a  bailout</th>\n",
       "      <td>0.008883</td>\n",
       "      <td>0.000789</td>\n",
       "    </tr>\n",
       "    <tr>\n",
       "      <th>...</th>\n",
       "      <td>...</td>\n",
       "      <td>...</td>\n",
       "    </tr>\n",
       "    <tr>\n",
       "      <th>Approval of Trump's  response underwater, as he returns to c aign trail: POLL</th>\n",
       "      <td>0.025016</td>\n",
       "      <td>-0.012304</td>\n",
       "    </tr>\n",
       "    <tr>\n",
       "      <th>It is unacceptable for travel insurance companies not to cover cancellations caused by restrictions instigated by C…</th>\n",
       "      <td>0.005283</td>\n",
       "      <td>-0.002783</td>\n",
       "    </tr>\n",
       "    <tr>\n",
       "      <th>46% of global Covid- deaths are recorded in 3 countries, which only account for 7.8% of global population.  What…</th>\n",
       "      <td>0.189996</td>\n",
       "      <td>0.007060</td>\n",
       "    </tr>\n",
       "    <tr>\n",
       "      <th>The  doesn’t care if you’re tired of the .</th>\n",
       "      <td>0.020636</td>\n",
       "      <td>-0.009013</td>\n",
       "    </tr>\n",
       "    <tr>\n",
       "      <th>More than 95% of  deaths in Alabama are among those with preexisting conditions. Among deaths with no pr…</th>\n",
       "      <td>0.048869</td>\n",
       "      <td>0.071922</td>\n",
       "    </tr>\n",
       "  </tbody>\n",
       "</table>\n",
       "<p>100 rows × 2 columns</p>\n",
       "</div>"
      ],
      "text/plain": [
       "                                                     Topic 1   Topic 2\n",
       "text                                                                  \n",
       "#16 is my immune system fending off corona          0.009634  0.004187\n",
       "Everyone knows that we're facing a real crisis ...  0.015617 -0.007770\n",
       "\"She tested for , and her results were delayed....  0.015076 -0.006064\n",
       "The Goddard Report with host   #CoronaVirus, #T...  0.050795  0.082349\n",
       "Robert Reich says airlines ‘shouldn’t see a dim...  0.008883  0.000789\n",
       "...                                                      ...       ...\n",
       "Approval of Trump's  response underwater, as he...  0.025016 -0.012304\n",
       "It is unacceptable for travel insurance compani...  0.005283 -0.002783\n",
       "46% of global Covid- deaths are recorded in 3 c...  0.189996  0.007060\n",
       "The  doesn’t care if you’re tired of the .          0.020636 -0.009013\n",
       "More than 95% of  deaths in Alabama are among t...  0.048869  0.071922\n",
       "\n",
       "[100 rows x 2 columns]"
      ]
     },
     "execution_count": 59,
     "metadata": {},
     "output_type": "execute_result"
    }
   ],
   "source": [
    "pd.DataFrame(U, index=DF['text'][0:100], columns=['Topic 1', 'Topic 2'])"
   ]
  },
  {
   "cell_type": "markdown",
   "metadata": {},
   "source": [
    "# Matrix Sigma\n",
    "Below we have our Sigma, which we know consists the singular value of our term document matrix.  In our application, the singular values represent the topic importances.  The matrix provides an idea of how prevalent each topic is amongst the documents."
   ]
  },
  {
   "cell_type": "markdown",
   "metadata": {},
   "source": [
    "\"Sigma describes the relative strengths of the features. U describes the relationship between terms (rows) and features (columns). The transpose of V describes the relationship between features and documents (columns).\" - https://matpalm.com/lsa_via_svd/eg1.html"
   ]
  },
  {
   "cell_type": "code",
   "execution_count": 34,
   "metadata": {},
   "outputs": [
    {
     "data": {
      "text/html": [
       "<div>\n",
       "<style scoped>\n",
       "    .dataframe tbody tr th:only-of-type {\n",
       "        vertical-align: middle;\n",
       "    }\n",
       "\n",
       "    .dataframe tbody tr th {\n",
       "        vertical-align: top;\n",
       "    }\n",
       "\n",
       "    .dataframe thead th {\n",
       "        text-align: right;\n",
       "    }\n",
       "</style>\n",
       "<table border=\"1\" class=\"dataframe\">\n",
       "  <thead>\n",
       "    <tr style=\"text-align: right;\">\n",
       "      <th></th>\n",
       "      <th>Topic Importance</th>\n",
       "    </tr>\n",
       "  </thead>\n",
       "  <tbody>\n",
       "    <tr>\n",
       "      <th>Topic 1</th>\n",
       "      <td>4.123106</td>\n",
       "    </tr>\n",
       "    <tr>\n",
       "      <th>Topic 2</th>\n",
       "      <td>3.528383</td>\n",
       "    </tr>\n",
       "  </tbody>\n",
       "</table>\n",
       "</div>"
      ],
      "text/plain": [
       "         Topic Importance\n",
       "Topic 1          4.123106\n",
       "Topic 2          3.528383"
      ]
     },
     "execution_count": 34,
     "metadata": {},
     "output_type": "execute_result"
    }
   ],
   "source": [
    "pd.DataFrame(Sigma, index=['Topic 1', 'Topic 2'], columns=['Topic Importance'])"
   ]
  },
  {
   "cell_type": "markdown",
   "metadata": {},
   "source": [
    "# Matrix transpose V\n",
    "V displays the word assignment to each topic.  The column indicates the term and the rows display the score of how the term fits within the topic."
   ]
  },
  {
   "cell_type": "code",
   "execution_count": 35,
   "metadata": {},
   "outputs": [
    {
     "data": {
      "text/html": [
       "<div>\n",
       "<style scoped>\n",
       "    .dataframe tbody tr th:only-of-type {\n",
       "        vertical-align: middle;\n",
       "    }\n",
       "\n",
       "    .dataframe tbody tr th {\n",
       "        vertical-align: top;\n",
       "    }\n",
       "\n",
       "    .dataframe thead th {\n",
       "        text-align: right;\n",
       "    }\n",
       "</style>\n",
       "<table border=\"1\" class=\"dataframe\">\n",
       "  <thead>\n",
       "    <tr style=\"text-align: right;\">\n",
       "      <th></th>\n",
       "      <th>16</th>\n",
       "      <th>20</th>\n",
       "      <th>airlines</th>\n",
       "      <th>association</th>\n",
       "      <th>bailout</th>\n",
       "      <th>boat</th>\n",
       "      <th>bowtell</th>\n",
       "      <th>branch</th>\n",
       "      <th>brighten</th>\n",
       "      <th>corona</th>\n",
       "      <th>...</th>\n",
       "      <th>thames</th>\n",
       "      <th>town</th>\n",
       "      <th>toxicdrugs</th>\n",
       "      <th>trump</th>\n",
       "      <th>trust</th>\n",
       "      <th>trying</th>\n",
       "      <th>turn</th>\n",
       "      <th>way</th>\n",
       "      <th>wokha</th>\n",
       "      <th>world</th>\n",
       "    </tr>\n",
       "  </thead>\n",
       "  <tbody>\n",
       "    <tr>\n",
       "      <th>0</th>\n",
       "      <td>5.145644e-17</td>\n",
       "      <td>2.425356e-01</td>\n",
       "      <td>-2.210325e-17</td>\n",
       "      <td>2.425356e-01</td>\n",
       "      <td>-8.795596e-18</td>\n",
       "      <td>-2.415586e-16</td>\n",
       "      <td>2.762576e-17</td>\n",
       "      <td>2.425356e-01</td>\n",
       "      <td>-2.360220e-16</td>\n",
       "      <td>4.087448e-17</td>\n",
       "      <td>...</td>\n",
       "      <td>-2.517757e-16</td>\n",
       "      <td>2.425356e-01</td>\n",
       "      <td>3.643825e-17</td>\n",
       "      <td>-7.429863e-17</td>\n",
       "      <td>2.550709e-17</td>\n",
       "      <td>-2.517757e-16</td>\n",
       "      <td>3.643825e-17</td>\n",
       "      <td>-7.429863e-17</td>\n",
       "      <td>4.850713e-01</td>\n",
       "      <td>2.425356e-01</td>\n",
       "    </tr>\n",
       "    <tr>\n",
       "      <th>1</th>\n",
       "      <td>3.528709e-17</td>\n",
       "      <td>-1.537419e-16</td>\n",
       "      <td>-4.609933e-16</td>\n",
       "      <td>-6.735429e-17</td>\n",
       "      <td>-3.529844e-16</td>\n",
       "      <td>-3.339454e-15</td>\n",
       "      <td>2.574120e-01</td>\n",
       "      <td>-2.648074e-17</td>\n",
       "      <td>-3.356691e-15</td>\n",
       "      <td>7.269651e-18</td>\n",
       "      <td>...</td>\n",
       "      <td>-3.362526e-15</td>\n",
       "      <td>-2.645957e-17</td>\n",
       "      <td>1.157041e-01</td>\n",
       "      <td>2.600389e-02</td>\n",
       "      <td>2.574120e-01</td>\n",
       "      <td>-3.362526e-15</td>\n",
       "      <td>1.157041e-01</td>\n",
       "      <td>2.600389e-02</td>\n",
       "      <td>-5.291914e-17</td>\n",
       "      <td>-2.645957e-17</td>\n",
       "    </tr>\n",
       "  </tbody>\n",
       "</table>\n",
       "<p>2 rows × 81 columns</p>\n",
       "</div>"
      ],
      "text/plain": [
       "             16            20      airlines   association       bailout  \\\n",
       "0  5.145644e-17  2.425356e-01 -2.210325e-17  2.425356e-01 -8.795596e-18   \n",
       "1  3.528709e-17 -1.537419e-16 -4.609933e-16 -6.735429e-17 -3.529844e-16   \n",
       "\n",
       "           boat       bowtell        branch      brighten        corona  ...  \\\n",
       "0 -2.415586e-16  2.762576e-17  2.425356e-01 -2.360220e-16  4.087448e-17  ...   \n",
       "1 -3.339454e-15  2.574120e-01 -2.648074e-17 -3.356691e-15  7.269651e-18  ...   \n",
       "\n",
       "         thames          town    toxicdrugs         trump         trust  \\\n",
       "0 -2.517757e-16  2.425356e-01  3.643825e-17 -7.429863e-17  2.550709e-17   \n",
       "1 -3.362526e-15 -2.645957e-17  1.157041e-01  2.600389e-02  2.574120e-01   \n",
       "\n",
       "         trying          turn           way         wokha         world  \n",
       "0 -2.517757e-16  3.643825e-17 -7.429863e-17  4.850713e-01  2.425356e-01  \n",
       "1 -3.362526e-15  1.157041e-01  2.600389e-02 -5.291914e-17 -2.645957e-17  \n",
       "\n",
       "[2 rows x 81 columns]"
      ]
     },
     "execution_count": 35,
     "metadata": {},
     "output_type": "execute_result"
    }
   ],
   "source": [
    "pd.DataFrame(Vt, columns=vectorizer.get_feature_names())"
   ]
  },
  {
   "cell_type": "markdown",
   "metadata": {},
   "source": [
    "# Limitations\n",
    "The source data was limited.  I could only scrape a limited number of tweets and the querying wasn't specific enough which resulted in pulling data that was not usable for my task.  Further, the data has a lot of noise that is difficult to circumvent. The documents are not always grammatically correct and some tweets in a non-english language still remained present."
   ]
  },
  {
   "cell_type": "markdown",
   "metadata": {},
   "source": [
    "# To Conclude\n",
    "Singular Value Decomposition is a valuable tool in natural language processing.  It allows us to derive relationships between texts and surmise common themes between documents.  The results of SVD have far reaching impacts beyond determining singular values."
   ]
  }
 ],
 "metadata": {
  "kernelspec": {
   "display_name": "Python 3",
   "language": "python",
   "name": "python3"
  },
  "language_info": {
   "codemirror_mode": {
    "name": "ipython",
    "version": 3
   },
   "file_extension": ".py",
   "mimetype": "text/x-python",
   "name": "python",
   "nbconvert_exporter": "python",
   "pygments_lexer": "ipython3",
   "version": "3.8.3"
  }
 },
 "nbformat": 4,
 "nbformat_minor": 4
}
